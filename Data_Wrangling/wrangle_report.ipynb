{
 "cells": [
  {
   "cell_type": "markdown",
   "metadata": {},
   "source": [
    "## Reporting: wragle_report\n",
    "* Create a **300-600 word written report** called \"wrangle_report.pdf\" or \"wrangle_report.html\" that briefly describes your wrangling efforts. This is to be framed as an internal document."
   ]
  },
  {
   "cell_type": "markdown",
   "metadata": {},
   "source": [
    "### Twitter archive data\n",
    "\n",
    "#### Data Gathering and Assessing\n",
    "\n",
    "1. the twitter archives enhanced is loaded in to a dataframe df_1.\n",
    "2. the .info method indicates data types issues with tweet_id and timestamp columns and some missing values with other columns.\n",
    "3. the .sort_values method when applied on rating_numerator and rating_denominator indicates that there are numerators and denominators that are less than 10.\n",
    "4. the name, doggo, floofer, pupper, puppo columns have values None which are actually NaN.\n",
    "5. the name column have values other than name like an, quite and etc..\n",
    "6. there is retweeted_status_id column with values and NaN.\n",
    "7. the .describe method revealed that there are tweets that have higher ratings which might be outliers are wrongly interpreted.\n",
    "8. the data is assessed for duplicates and no duplicates are found.\n",
    "\n",
    "#### Data Cleaning\n",
    "\n",
    "1. the tweets that are retweets and tweets with no image urls are filtered from the dataframe.\n",
    "2. then the columns with zero non null values are dropped from the dataframe.\n",
    "3. the tweet_id and the timestamp are changed to respective data types.\n",
    "4. the reply fields are also dropped from the dataframe.\n",
    "5. the name field is renamed to dog_name to maintain naming convention.\n",
    "6. the names of the dog values checked and is corrected.\n",
    "7. the dnominator values less than 10 are selected and is correctly replaced as per the tweet.\n",
    "8. the source columns are extracted for correct field values.\n",
    "9. the dog_stage is created by melting the 'doggo', 'floofer', 'pupper', 'puppo' columns.\n",
    "10. the dog_stage is changed to category data type."
   ]
  },
  {
   "cell_type": "markdown",
   "metadata": {},
   "source": [
    "### Tweet image prediction\n",
    "\n",
    "#### Data Gathering and Assessing\n",
    "\n",
    "1. the url is downloaded programmatically.\n",
    "2. the .info method indicates no missing values and data type issue with tweet_id.\n",
    "3. the dataset has column names that are confusing with the value it holds.\n",
    "4. there are some images that are predicted as dogs and some predictions are not dogs.\n",
    "5. the predicted values are inconsistent data types.\n",
    "6. the .describe method indicates that the p1_conf has value 1 which is to be inspected for what the predictions are for.\n",
    "7. the data is assessed for duplicates and no duplicates are found\n",
    "\n",
    "#### Data Cleaning\n",
    "\n",
    "1. the tweet_id is changed to object data type.\n",
    "2. the columns are renamed and dropped as required for analysis.\n",
    "3. the 'prediction_1', 'prediction_2', 'prediction_3' columns are curated by replacing the _, - with spaces and made as title case."
   ]
  },
  {
   "cell_type": "markdown",
   "metadata": {},
   "source": [
    "### Twitter API\n",
    "\n",
    "#### Data Gathering and Assessing\n",
    "\n",
    "1. the twitter developer account is created to get the key and token and the json file is downloaded as .txt file\n",
    "2. the tweet_id, retweet_count and favorite_count has been collected as a list and converted to dataframe.\n",
    "3. the .info method reveals that there are no missing values in the dataframe.\n",
    "4. the .sort_values mehtod indicates there are many tweets with zer0 favorite count which might be an error in the the data.\n",
    "5. the .describe method reveals there are tweets with zero retweets.\n",
    "6. the data is assessed for duplicates and no duplicates are found\n",
    "\n",
    "#### Data Cleaning\n",
    "\n",
    "1. the zero values are from the data source so we are not accepting as it is"
   ]
  }
 ],
 "metadata": {
  "kernelspec": {
   "display_name": "Python 3",
   "language": "python",
   "name": "python3"
  },
  "language_info": {
   "codemirror_mode": {
    "name": "ipython",
    "version": 3
   },
   "file_extension": ".py",
   "mimetype": "text/x-python",
   "name": "python",
   "nbconvert_exporter": "python",
   "pygments_lexer": "ipython3",
   "version": "3.6.3"
  }
 },
 "nbformat": 4,
 "nbformat_minor": 2
}
